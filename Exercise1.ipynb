{
  "nbformat": 4,
  "nbformat_minor": 0,
  "metadata": {
    "colab": {
      "provenance": [],
      "authorship_tag": "ABX9TyPbtc/WyRvePR6sut0GwtAS",
      "include_colab_link": true
    },
    "kernelspec": {
      "name": "python3",
      "display_name": "Python 3"
    },
    "language_info": {
      "name": "python"
    }
  },
  "cells": [
    {
      "cell_type": "markdown",
      "metadata": {
        "id": "view-in-github",
        "colab_type": "text"
      },
      "source": [
        "<a href=\"https://colab.research.google.com/github/atosiroy/CV_Tirana/blob/main/Exercise1.ipynb\" target=\"_parent\"><img src=\"https://colab.research.google.com/assets/colab-badge.svg\" alt=\"Open In Colab\"/></a>"
      ]
    },
    {
      "cell_type": "code",
      "source": [
        "from google.colab import drive\n",
        "drive.mount('/content/drive')"
      ],
      "metadata": {
        "id": "k5e5_0itvOfp"
      },
      "execution_count": null,
      "outputs": []
    },
    {
      "cell_type": "code",
      "source": [
        "import matplotlib.pyplot as plt\n",
        "import numpy as np"
      ],
      "metadata": {
        "id": "zLj-WxojzrQe"
      },
      "execution_count": null,
      "outputs": []
    },
    {
      "cell_type": "code",
      "source": [
        "import skimage as sk\n",
        "I = sk.data.coffee()\n",
        "sk.io.imshow(I)\n",
        "sk.io.show()"
      ],
      "metadata": {
        "id": "qKmIeqt8zyEF"
      },
      "execution_count": null,
      "outputs": []
    },
    {
      "cell_type": "code",
      "source": [
        "I.shape"
      ],
      "metadata": {
        "id": "LF-atnKZ0Ah1"
      },
      "execution_count": null,
      "outputs": []
    },
    {
      "cell_type": "code",
      "source": [
        "I[0,0]"
      ],
      "metadata": {
        "id": "D5hGA_EG0ESt"
      },
      "execution_count": null,
      "outputs": []
    },
    {
      "cell_type": "code",
      "source": [
        "IG = sk.color.rgb2gray(I)"
      ],
      "metadata": {
        "id": "8wW2Y5GB0F5x"
      },
      "execution_count": null,
      "outputs": []
    },
    {
      "cell_type": "code",
      "source": [
        "sk.io.imshow(IG)\n",
        "sk.io.show()"
      ],
      "metadata": {
        "id": "2u_lIchy0LrD"
      },
      "execution_count": null,
      "outputs": []
    },
    {
      "cell_type": "code",
      "source": [
        "IG.shape"
      ],
      "metadata": {
        "id": "SXyJtgCW0Mrq"
      },
      "execution_count": null,
      "outputs": []
    },
    {
      "cell_type": "code",
      "source": [
        "import matplotlib.pyplot as plt\n",
        "fig,axes = plt.subplots(1,2,figsize=(12,7))\n",
        "ax = axes.ravel() # convert axes to a 1d array\n",
        "im1 = ax[0].imshow(IG,cmap=plt.cm.gray) # visualize image using imshow function using a grayscale colormap\n",
        "ax[0].set_title('grayscale image with grayscale colormap') # set figure title\n",
        "fig.colorbar(im1,ax=ax[0],orientation='horizontal') # visualize colorbar\n",
        "im2 = ax[1].imshow(IG,cmap=plt.cm.jet) # visualize image using imshow function using a grayscale colormap\n",
        "ax[1].set_title('grayscale image with jet colormap') # set figure title\n",
        "fig.colorbar(im2,ax=ax[1],orientation='horizontal') # visualize colorbar\n",
        "sk.io.show()"
      ],
      "metadata": {
        "id": "nZ_vZgZJ0TkJ"
      },
      "execution_count": null,
      "outputs": []
    },
    {
      "cell_type": "code",
      "source": [
        "from skimage.util import img_as_ubyte\n",
        "IGB = img_as_ubyte(IG)\n",
        "np.max(IGB)"
      ],
      "metadata": {
        "id": "FO4OrNaj0YA_"
      },
      "execution_count": null,
      "outputs": []
    },
    {
      "cell_type": "code",
      "source": [
        "import matplotlib.pyplot as plt\n",
        "import numpy as np\n",
        "v = IGB.reshape(IGB.shape[0]*IGB.shape[1],1)\n",
        "\n",
        "fig = plt.figure(figsize=(14, 6))\n",
        "plt.hist(v, bins=256,density=False)\n",
        "plt.show()"
      ],
      "metadata": {
        "id": "oKouXRxg0Zew"
      },
      "execution_count": null,
      "outputs": []
    },
    {
      "cell_type": "code",
      "source": [
        "IGB.shape[0]*IGB.shape[1]"
      ],
      "metadata": {
        "id": "BM2BkjCu00sQ"
      },
      "execution_count": null,
      "outputs": []
    },
    {
      "cell_type": "code",
      "source": [
        "v[v==0].shape[0]"
      ],
      "metadata": {
        "id": "qEswOnpX05hq"
      },
      "execution_count": null,
      "outputs": []
    },
    {
      "cell_type": "code",
      "source": [
        "p0 = v[v==0].shape[0]/(IGB.shape[0]*IGB.shape[1])\n",
        "print(p0)"
      ],
      "metadata": {
        "id": "EraoImvk1DUg"
      },
      "execution_count": null,
      "outputs": []
    },
    {
      "cell_type": "code",
      "source": [
        "from skimage import exposure\n",
        "\n",
        "img_cdf, bins = exposure.cumulative_distribution(IGB, 255)\n",
        "fig = plt.figure(figsize=(14, 6))\n",
        "plt.plot(bins,img_cdf,'r')\n",
        "plt.show()"
      ],
      "metadata": {
        "id": "wzgZsHw81g0V"
      },
      "execution_count": null,
      "outputs": []
    },
    {
      "cell_type": "code",
      "source": [
        "v = IGB.reshape(IGB.shape[0]*IGB.shape[1],1)\n",
        "np.median(v)"
      ],
      "metadata": {
        "id": "QCc9VaGp12bI"
      },
      "execution_count": null,
      "outputs": []
    },
    {
      "cell_type": "markdown",
      "source": [
        "**task 2**\n"
      ],
      "metadata": {
        "id": "FgWcmcK-179R"
      }
    },
    {
      "cell_type": "code",
      "source": [
        "from skimage import data\n",
        "from skimage import img_as_ubyte"
      ],
      "metadata": {
        "id": "74ujpIb62kNI"
      },
      "execution_count": null,
      "outputs": []
    },
    {
      "cell_type": "markdown",
      "source": [
        "gaussian\n"
      ],
      "metadata": {
        "id": "Q3VW07jt4MSf"
      }
    },
    {
      "cell_type": "code",
      "source": [
        "import matplotlib.pyplot as plt\n",
        "import numpy as np\n",
        "from skimage import data\n",
        "from skimage import img_as_ubyte\n",
        "\n",
        "from skimage import data, img_as_float\n",
        "from skimage.util import random_noise\n",
        "\n",
        "\n",
        "img = img_as_float(IGB)\n",
        "sigma = 0.15\n",
        "noisy_image_normal = random_noise(IGB, var=sigma**2)\n",
        "\n",
        "plot_comparison(img,noisy_image_normal,'Gaussian noise')"
      ],
      "metadata": {
        "id": "KcZSHP084Oco"
      },
      "execution_count": null,
      "outputs": []
    },
    {
      "cell_type": "code",
      "source": [],
      "metadata": {
        "id": "4qXbXx6_5KTO"
      },
      "execution_count": null,
      "outputs": []
    }
  ]
}